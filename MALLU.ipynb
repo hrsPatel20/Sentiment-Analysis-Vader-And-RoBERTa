{
 "cells": [
  {
   "cell_type": "code",
   "execution_count": 1,
   "id": "5cb000d9-55a0-4691-8a89-94969792af3c",
   "metadata": {},
   "outputs": [],
   "source": [
    "import numpy as np\n",
    "import pandas as pd\n",
    "import matplotlib.pyplot as plt"
   ]
  },
  {
   "cell_type": "code",
   "execution_count": 17,
   "id": "4ab6fafd-b54f-45e7-8efd-13f7df484588",
   "metadata": {},
   "outputs": [],
   "source": [
    "# x=np.array([1,2,3,4,5,6,7,8,9,10])\n",
    "# y=np.array([2,4,8,8,10,12,16,16,18,20])\n",
    "x=np.array([2,4,5,3,8,10])#([1,2,3,4,5,6,7,8,9,10])\n",
    "y=np.array([7,5,12,8,12,16])#([2,4,6,8,10,12,14,16,18,20])"
   ]
  },
  {
   "cell_type": "code",
   "execution_count": 18,
   "id": "1a68ec8e-4895-4f1f-86a8-3369d5681f97",
   "metadata": {},
   "outputs": [],
   "source": [
    "xbar=np.mean(x)\n",
    "ybar=np.mean(y)\n",
    "upper=0\n",
    "lower=0\n",
    "for i in range(len(x)):\n",
    "        sum=(x[i]-xbar)*(y[i]-ybar)\n",
    "        upper=sum+upper\n",
    "        deno=(x[i]-xbar)**2\n",
    "        lower=deno+lower      "
   ]
  },
  {
   "cell_type": "code",
   "execution_count": 23,
   "id": "78325986-85b7-4c9f-805d-ec30d7b807ad",
   "metadata": {},
   "outputs": [
    {
     "data": {
      "text/plain": [
       "1.1408450704225352"
      ]
     },
     "execution_count": 23,
     "metadata": {},
     "output_type": "execute_result"
    }
   ],
   "source": [
    "slope=upper/lower\n",
    "slope"
   ]
  },
  {
   "cell_type": "code",
   "execution_count": 26,
   "id": "ca895155-149c-41ea-b147-34c18741df2d",
   "metadata": {},
   "outputs": [
    {
     "data": {
      "text/plain": [
       "3.915492957746479"
      ]
     },
     "execution_count": 26,
     "metadata": {},
     "output_type": "execute_result"
    }
   ],
   "source": [
    "interception= ybar - (slope*xbar)\n",
    "interception"
   ]
  },
  {
   "cell_type": "code",
   "execution_count": 61,
   "id": "8d2d0e42-7163-4296-912c-20328fb8bfa9",
   "metadata": {},
   "outputs": [],
   "source": [
    "rss=0\n",
    "tss=0\n",
    "for i in range(len(x)):\n",
    "      rs=(y[i]-interception-(slope*x[i]))**2\n",
    "      rss=rss+rs\n",
    "      ts=(y[i]-ybar)**2\n",
    "      tss=tss+ts    "
   ]
  },
  {
   "cell_type": "code",
   "execution_count": 29,
   "id": "20ea586e-fe7b-452d-8602-a5229ac2c024",
   "metadata": {},
   "outputs": [
    {
     "data": {
      "text/plain": [
       "20.3943661971831"
      ]
     },
     "execution_count": 29,
     "metadata": {},
     "output_type": "execute_result"
    }
   ],
   "source": [
    "rss"
   ]
  },
  {
   "cell_type": "code",
   "execution_count": 30,
   "id": "4fa980ed-67e7-44c0-a83c-f0ba71ccea50",
   "metadata": {},
   "outputs": [
    {
     "data": {
      "text/plain": [
       "82.0"
      ]
     },
     "execution_count": 30,
     "metadata": {},
     "output_type": "execute_result"
    }
   ],
   "source": [
    "tss"
   ]
  },
  {
   "cell_type": "code",
   "execution_count": 32,
   "id": "1c98ae27-7b33-41cb-869a-0ab3d2220bd2",
   "metadata": {},
   "outputs": [
    {
     "data": {
      "text/plain": [
       "0.7512882171075231"
      ]
     },
     "execution_count": 32,
     "metadata": {},
     "output_type": "execute_result"
    }
   ],
   "source": [
    "r2=1-(rss/tss)\n",
    "r2"
   ]
  },
  {
   "cell_type": "code",
   "execution_count": 67,
   "id": "0564fd99-d7ba-48c5-98e5-05c7b248e8d4",
   "metadata": {},
   "outputs": [
    {
     "data": {
      "text/plain": [
       "[6.19718309859155,\n",
       " 8.47887323943662,\n",
       " 9.619718309859156,\n",
       " 7.338028169014085,\n",
       " 13.04225352112676,\n",
       " 15.323943661971832]"
      ]
     },
     "execution_count": 67,
     "metadata": {},
     "output_type": "execute_result"
    }
   ],
   "source": [
    "ypreda=[]\n",
    "for i in range(len(y)):\n",
    "    point=interception+(slope*(x[i]))\n",
    "    ypreda.append(point)\n",
    "ypreda    "
   ]
  },
  {
   "cell_type": "code",
   "execution_count": 70,
   "id": "18b129f9-bbbf-4054-91b7-a64f84ae6e66",
   "metadata": {},
   "outputs": [
    {
     "data": {
      "text/plain": [
       "1.8436542606638182"
      ]
     },
     "execution_count": 70,
     "metadata": {},
     "output_type": "execute_result"
    }
   ],
   "source": [
    "tsme=(rss/len(x))**0.5\n",
    "tsme"
   ]
  },
  {
   "cell_type": "code",
   "execution_count": 38,
   "id": "420f0d9e-8523-4e8a-89ae-2090923185d0",
   "metadata": {},
   "outputs": [],
   "source": [
    "from sklearn.linear_model import LinearRegression\n",
    "from sklearn.metrics import r2_score,mean_squared_error"
   ]
  },
  {
   "cell_type": "code",
   "execution_count": 39,
   "id": "c3f8300a-eeef-4070-8ed9-fd23f777b685",
   "metadata": {},
   "outputs": [
    {
     "data": {
      "text/plain": [
       "0.7512882171075232"
      ]
     },
     "execution_count": 39,
     "metadata": {},
     "output_type": "execute_result"
    }
   ],
   "source": [
    "l=LinearRegression()\n",
    "l.fit(x.reshape(-1,1),y)\n",
    "ypred=l.predict(x.reshape(-1,1))\n",
    "r2_score(y,ypred)"
   ]
  },
  {
   "cell_type": "code",
   "execution_count": 66,
   "id": "de4a9800-7479-406d-99d3-1102843ebe36",
   "metadata": {},
   "outputs": [
    {
     "name": "stdout",
     "output_type": "stream",
     "text": [
      "[ 6.1971831   8.47887324  9.61971831  7.33802817 13.04225352 15.32394366]\n"
     ]
    }
   ],
   "source": [
    "print(ypred)"
   ]
  },
  {
   "cell_type": "code",
   "execution_count": 52,
   "id": "bac8b927-6376-4134-936b-d1d4b1178c2c",
   "metadata": {},
   "outputs": [
    {
     "data": {
      "text/plain": [
       "25.333333333333332"
      ]
     },
     "execution_count": 52,
     "metadata": {},
     "output_type": "execute_result"
    }
   ],
   "source": [
    "mean_squared_error(x,y)"
   ]
  },
  {
   "cell_type": "code",
   "execution_count": 71,
   "id": "87831d26-f357-4291-bf89-4cacd6408480",
   "metadata": {},
   "outputs": [
    {
     "data": {
      "text/plain": [
       "5.033222956847166"
      ]
     },
     "execution_count": 71,
     "metadata": {},
     "output_type": "execute_result"
    }
   ],
   "source": [
    "np.sqrt(mean_squared_error(x,y))"
   ]
  },
  {
   "cell_type": "code",
   "execution_count": 73,
   "id": "fef00a86-a512-4341-8e23-f559d146d58a",
   "metadata": {},
   "outputs": [],
   "source": [
    "import numpy as np\n",
    "from scipy.spatial.distance import cdist\n",
    "from sklearn.datasets import load_digits\n",
    "from sklearn.decomposition import PCA\n",
    "from sklearn.cluster import KMeans\n",
    "import matplotlib.pyplot as plt"
   ]
  },
  {
   "cell_type": "code",
   "execution_count": 129,
   "id": "01197595-d799-446d-9e22-2a8841452ef9",
   "metadata": {},
   "outputs": [
    {
     "name": "stdout",
     "output_type": "stream",
     "text": [
      "[[4 5 6]]\n",
      "Points [0 0 0]\n"
     ]
    }
   ],
   "source": [
    "def kmean(x,k,nofi):\n",
    "    dx=np.random.choice(len(x),k,replace=False)\n",
    "    centroids=x[dx]\n",
    "    print(centroids)\n",
    "    dist=cdist(x,centroids,'euclidean')\n",
    "    points=np.array([np.argmin(i) for i in dist])\n",
    "    print(\"Points\",points)\n",
    "x=np.array([[1,2,3],[4,5,6],[7,8,9]])\n",
    "kmean(x,1,10)"
   ]
  },
  {
   "cell_type": "code",
   "execution_count": 370,
   "id": "637c72b2-c32e-4f61-b94d-4847a7b9e49e",
   "metadata": {},
   "outputs": [
    {
     "name": "stdout",
     "output_type": "stream",
     "text": [
      "dx [2 4]\n",
      "Initial Centroids:\n",
      "[[3 3 3 3 3 3]\n",
      " [5 5 5 5 5 5]]\n",
      "chAD [0 0 0 0 1 1]\n",
      "Final Labels:\n",
      "[0 0 0 0 1 1]\n"
     ]
    }
   ],
   "source": [
    "import numpy as np\n",
    "from scipy.spatial.distance import cdist\n",
    "\n",
    "df = np.array([[1,1,1,1,1,1],[2,2,2,2,2,2],[3,3,3,3,3,3],[4,4,4,4,4,4],[5,5,5,5,5,5],[6,6,6,6,6,6]])\n",
    "k = 2\n",
    "no_of_iterations = 50\n",
    "indx = np.random.choice(len(df), k, replace=False)\n",
    "print('dx',indx)\n",
    "centroids = df[indx, :]\n",
    "print(\"Initial Centroids:\")\n",
    "print(centroids)\n",
    "\n",
    "distances = cdist(df, centroids, 'euclidean')\n",
    "points = np.array([np.argmin(i) for i in distances])\n",
    "print('chAD',points)\n",
    "for i in range(no_of_iterations):\n",
    "    centroids = []\n",
    "    for indx in range(k):\n",
    "        temp_cent = df[points == indx].mean(axis=0)\n",
    "        centroids.append(temp_cent)\n",
    "        # print('Its me',centroids)\n",
    "    new_centroids = np.vstack(centroids)\n",
    "    # print('Me again',new_centroids)\n",
    "    distance= cdist(df, new_centroids, 'euclidean')\n",
    "    pointsa = np.array([np.argmin(i) for i in distance])\n",
    "\n",
    "print(\"Final Labels:\")\n",
    "print(pointsa)\n"
   ]
  },
  {
   "cell_type": "code",
   "execution_count": 128,
   "id": "a82b7c84-64d3-433c-a90a-231a117ffa38",
   "metadata": {},
   "outputs": [
    {
     "name": "stderr",
     "output_type": "stream",
     "text": [
      "C:\\Users\\DAXESH MAHERIYA\\anaconda3\\Lib\\site-packages\\sklearn\\cluster\\_kmeans.py:1446: UserWarning: KMeans is known to have a memory leak on Windows with MKL, when there are less chunks than available threads. You can avoid it by setting the environment variable OMP_NUM_THREADS=1.\n",
      "  warnings.warn(\n",
      "C:\\Users\\DAXESH MAHERIYA\\anaconda3\\Lib\\site-packages\\sklearn\\cluster\\_kmeans.py:1446: UserWarning: KMeans is known to have a memory leak on Windows with MKL, when there are less chunks than available threads. You can avoid it by setting the environment variable OMP_NUM_THREADS=1.\n",
      "  warnings.warn(\n",
      "C:\\Users\\DAXESH MAHERIYA\\anaconda3\\Lib\\site-packages\\sklearn\\cluster\\_kmeans.py:1446: UserWarning: KMeans is known to have a memory leak on Windows with MKL, when there are less chunks than available threads. You can avoid it by setting the environment variable OMP_NUM_THREADS=1.\n",
      "  warnings.warn(\n",
      "C:\\Users\\DAXESH MAHERIYA\\anaconda3\\Lib\\site-packages\\sklearn\\cluster\\_kmeans.py:1446: UserWarning: KMeans is known to have a memory leak on Windows with MKL, when there are less chunks than available threads. You can avoid it by setting the environment variable OMP_NUM_THREADS=1.\n",
      "  warnings.warn(\n",
      "C:\\Users\\DAXESH MAHERIYA\\anaconda3\\Lib\\site-packages\\sklearn\\cluster\\_kmeans.py:1446: UserWarning: KMeans is known to have a memory leak on Windows with MKL, when there are less chunks than available threads. You can avoid it by setting the environment variable OMP_NUM_THREADS=1.\n",
      "  warnings.warn(\n"
     ]
    },
    {
     "data": {
      "image/png": "[encoded data removed]",
      "text/plain": [
       "<Figure size 640x480 with 1 Axes>"
      ]
     },
     "metadata": {},
     "output_type": "display_data"
    }
   ],
   "source": [
    "wcss=[]\n",
    "for i in range(1,6):\n",
    "    kmeans=KMeans(n_clusters=i)\n",
    "    kmeans.fit(df)#.reshape(-1,1))\n",
    "    wcss.append(kmeans.inertia_)\n",
    "plt.plot(range(1,6),wcss)\n",
    "plt.show()"
   ]
  },
  {
   "cell_type": "code",
   "execution_count": 518,
   "id": "fecea8b0-5c0f-4524-945c-fe8d7fd78102",
   "metadata": {},
   "outputs": [
    {
     "name": "stdout",
     "output_type": "stream",
     "text": [
      "[1 1 0 0 0 0]\n",
      "[1 1 0 0 0 0]\n"
     ]
    }
   ],
   "source": [
    "import numpy as np\n",
    "from scipy.spatial.distance import cdist\n",
    "\n",
    "df = np.array([[1,1,1,1,1,1],[2,2,2,2,2,2],[3,3,3,3,3,3],[4,4,4,4,4,4],[5,5,5,5,5,5],[6,6,6,6,6,6]])\n",
    "k = 2\n",
    "n=50\n",
    "indx=np.random.choice(len(df),k,replace=False)\n",
    "cent=df[indx,:]\n",
    "dist=cdist(df,cent,'euclidean')\n",
    "toinp=np.array([np.argmin(i) for i in dist])\n",
    "for i in range(n):\n",
    "    centro=[]\n",
    "    for indx in range(k):\n",
    "        temp=df[toinp==indx].mean(axis=0)\n",
    "        centro.append(temp)\n",
    "    new=np.vstack(centro)\n",
    "    dista=cdist(df,new,'euclidean')\n",
    "    pointsd=np.array([np.argmin(i) for i in dista])\n",
    "print(toinp)\n",
    "print(pointsd)"
   ]
  },
  {
   "cell_type": "code",
   "execution_count": 446,
   "id": "517b8175-baf4-4888-b87b-730dfc040b40",
   "metadata": {},
   "outputs": [
    {
     "name": "stdout",
     "output_type": "stream",
     "text": [
      "Initial cluster assignments:\n",
      "[0 0 0 1 1 1]\n",
      "Final cluster assignments:\n",
      "[0 0 0 1 1 1]\n"
     ]
    }
   ],
   "source": []
  }
 ],
 "metadata": {
  "kernelspec": {
   "display_name": "Python 3 (ipykernel)",
   "language": "python",
   "name": "python3"
  },
  "language_info": {
   "codemirror_mode": {
    "name": "ipython",
    "version": 3
   },
   "file_extension": ".py",
   "mimetype": "text/x-python",
   "name": "python",
   "nbconvert_exporter": "python",
   "pygments_lexer": "ipython3",
   "version": "3.11.5"
  }
 },
 "nbformat": 4,
 "nbformat_minor": 5
}
